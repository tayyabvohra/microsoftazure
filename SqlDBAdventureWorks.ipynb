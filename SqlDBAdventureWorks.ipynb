{
 "cells": [
  {
   "cell_type": "code",
   "execution_count": 12,
   "id": "8e65d8a6",
   "metadata": {},
   "outputs": [],
   "source": [
    "import pyodbc\n",
    "import pandas as pd\n",
    "\n",
    "def get_dataframe_from_sql_server(server, database, table_name):\n",
    "    connection_string = f'DRIVER={{SQL Server}};SERVER={server};DATABASE={database};trusted_connection=yes;'\n",
    "    try:\n",
    "        conn = pyodbc.connect(connection_string)\n",
    "        query = f'SELECT * FROM {table_name}'\n",
    "        df = pd.read_sql_query(query, conn)\n",
    "        conn.close()\n",
    "        df.to_csv(table_name+\".csv\")\n",
    "    except pyodbc.Error as e:\n",
    "        print('Error connecting to the database:', e)\n",
    "        return None\n",
    "\n",
    "\n"
   ]
  },
  {
   "cell_type": "code",
   "execution_count": 35,
   "id": "96573da1",
   "metadata": {},
   "outputs": [
    {
     "name": "stderr",
     "output_type": "stream",
     "text": [
      "C:\\Users\\tayyabvohra\\Anaconda3\\lib\\site-packages\\pandas\\io\\sql.py:762: UserWarning: pandas only support SQLAlchemy connectable(engine/connection) ordatabase string URI or sqlite3 DBAPI2 connectionother DBAPI2 objects are not tested, please consider using SQLAlchemy\n",
      "  warnings.warn(\n"
     ]
    },
    {
     "name": "stdout",
     "output_type": "stream",
     "text": [
      "Error occurred while fetching data from the database.\n"
     ]
    }
   ],
   "source": [
    "server_name = 'localhost'\n",
    "db_name = 'AdventureWorksDW2022'\n",
    "table_name = 'FactInternetSalesReason'\n",
    "\n",
    "data_frame = get_dataframe_from_sql_server(server_name, db_name, table_name)\n",
    "if data_frame is not None:\n",
    "    print(data_frame)\n",
    "else:\n",
    "    print(\"Error occurred while fetching data from the database.\")\n"
   ]
  },
  {
   "cell_type": "code",
   "execution_count": null,
   "id": "797e11e3",
   "metadata": {},
   "outputs": [],
   "source": []
  }
 ],
 "metadata": {
  "kernelspec": {
   "display_name": "Python 3 (ipykernel)",
   "language": "python",
   "name": "python3"
  },
  "language_info": {
   "codemirror_mode": {
    "name": "ipython",
    "version": 3
   },
   "file_extension": ".py",
   "mimetype": "text/x-python",
   "name": "python",
   "nbconvert_exporter": "python",
   "pygments_lexer": "ipython3",
   "version": "3.9.13"
  }
 },
 "nbformat": 4,
 "nbformat_minor": 5
}
